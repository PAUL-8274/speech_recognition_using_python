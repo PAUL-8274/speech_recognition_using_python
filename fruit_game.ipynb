{
 "cells": [
  {
   "cell_type": "code",
   "execution_count": 26,
   "metadata": {},
   "outputs": [
    {
     "name": "stdout",
     "output_type": "stream",
     "text": [
      "I'm thinking of one of these words:\n",
      "apple, kiwi, grape, mango, banana\n",
      "You have 3 tries to guess which one.\n",
      "\n",
      "could not recognize\n",
      "wrong it was not mango\n",
      "try again\n",
      "could not recognize\n"
     ]
    }
   ],
   "source": [
    "import random\n",
    "import time\n",
    "lis=[\"apple\",\"kiwi\",\"grape\",\"mango\",\"banana\"]\n",
    "guess=random.choice(lis)\n",
    "import speech_recognition as sr\n",
    "def paul_sound(r,mic):\n",
    "    \n",
    "    with mic as source:\n",
    "        r.adjust_for_ambient_noise(source) #noise removal\n",
    "        audio = r.listen(source)\n",
    "\n",
    "    fruit_name=r.recognize_google(audio).lower()\n",
    "    return fruit_name\n",
    "r = sr.Recognizer()\n",
    "mic = sr.Microphone()\n",
    "numberofguess=3\n",
    "instructions = (\n",
    "        \"I'm thinking of one of these words:\\n\"\n",
    "        \"{words}\\n\"\n",
    "        \"You have {n} tries to guess which one.\\n\"\n",
    "    ).format(words=', '.join(lis), n=numberofguess)\n",
    "\n",
    "    # show instructions and wait 3 seconds before starting the game\n",
    "print(instructions)\n",
    "time.sleep(3)\n",
    "for i in range(numberofguess):\n",
    "    try:\n",
    "        fruit=paul_sound(r,mic)\n",
    "        if fruit in lis:\n",
    "            \n",
    "            if fruit==guess:\n",
    "                print(\"your guess is \",fruit,\"right guess\")\n",
    "                break\n",
    "            \n",
    "            else:\n",
    "                print(\"wrong it was not\",fruit)\n",
    "                print(\"try again\")\n",
    "        else:\n",
    "            print(\"type among them\")\n",
    "    except:\n",
    "        print(\"could not recognize\")"
   ]
  },
  {
   "cell_type": "code",
   "execution_count": null,
   "metadata": {},
   "outputs": [],
   "source": []
  }
 ],
 "metadata": {
  "kernelspec": {
   "display_name": "Python 3",
   "language": "python",
   "name": "python3"
  },
  "language_info": {
   "codemirror_mode": {
    "name": "ipython",
    "version": 3
   },
   "file_extension": ".py",
   "mimetype": "text/x-python",
   "name": "python",
   "nbconvert_exporter": "python",
   "pygments_lexer": "ipython3",
   "version": "3.6.8"
  }
 },
 "nbformat": 4,
 "nbformat_minor": 2
}
