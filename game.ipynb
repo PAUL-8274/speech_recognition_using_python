import random
import time
lis=["apple","kiwi","grape","mango","banana"]
guess=random.choice(lis)
import speech_recognition as sr
def paul_sound(r,mic):
    
    with mic as source:
        r.adjust_for_ambient_noise(source) #noise removal
        audio = r.listen(source)

    fruit_name=r.recognize_google(audio).lower()
    return fruit_name
r = sr.Recognizer()
mic = sr.Microphone()
numberofguess=3
instructions = (
        "I'm thinking of one of these words:\n"
        "{words}\n"
        "You have {n} tries to guess which one.\n"
    ).format(words=', '.join(lis), n=numberofguess)

    # show instructions and wait 3 seconds before starting the game
print(instructions)
time.sleep(3)
for i in range(numberofguess):
    try:
        fruit=paul_sound(r,mic)
        if fruit in lis:
            
            if fruit==guess:
                print("your guess is ",fruit,"right guess")
                break
            
            else:
                print("wrong it was not",fruit)
                print("try again")
        else:
            print("type among them")
    except:
        print("could not recognize")
