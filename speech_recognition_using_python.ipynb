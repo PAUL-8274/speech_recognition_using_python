{
 "cells": [
  {
   "cell_type": "markdown",
   "metadata": {},
   "source": [
    "install the package\n",
    "\n",
    "pip install SpeechRecognition --user\n",
    "\n",
    "pip install pyaudio\n",
    "\n",
    "python -m speech_recognition\n",
    "\n",
    "#sudo apt-get install python-pyaudio python3-pyaudio\n",
    "#now run python3 -m speech_recognition \n",
    "\n",
    "in terminal,it will return this output\n",
    "\n",
    "A moment of silence, please...\n",
    "\n",
    "Set minimum energy threshold to \n",
    "70.03593927678727\n",
    "\n",
    "Say something!\n",
    "\n",
    "Got it! Now to recognize it...\n",
    "\n",
    "Oops! Didn't catch that\n",
    "\n",
    "Say something!\n",
    "\n",
    "Got it! Now to recognize it...\n",
    "\n",
    "You said hello hello\n"
   ]
  },
  {
   "cell_type": "code",
   "execution_count": 1,
   "metadata": {},
   "outputs": [],
   "source": [
    "import speech_recognition as sr #importing the library"
   ]
  },
  {
   "cell_type": "code",
   "execution_count": 2,
   "metadata": {},
   "outputs": [
    {
     "name": "stdout",
     "output_type": "stream",
     "text": [
      "3.8.1\n"
     ]
    }
   ],
   "source": [
    "print(sr.__version__) #check the version"
   ]
  },
  {
   "cell_type": "markdown",
   "metadata": {},
   "source": [
    "# Recognize speech input from the microphone:####"
   ]
  },
  {
   "cell_type": "code",
   "execution_count": 4,
   "metadata": {},
   "outputs": [
    {
     "name": "stdout",
     "output_type": "stream",
     "text": [
      "You said what are you doing\n"
     ]
    }
   ],
   "source": [
    "import speech_recognition as sr\n",
    "r = sr.Recognizer()\n",
    "mic = sr.Microphone()\n",
    "sr.Microphone.list_microphone_names()\n",
    "with mic as source:\n",
    "    r.adjust_for_ambient_noise(source) #noise removal\n",
    "    audio = r.listen(source)\n",
    "\n",
    "try:\n",
    "    print(\"You said \" + r.recognize_google(audio))    # recognize speech using Google Speech Recognition\n",
    "except:                            # speech is unintelligible\n",
    "    print(\"Could not understand audio\")\n"
   ]
  },
  {
   "cell_type": "markdown",
   "metadata": {},
   "source": [
    "# Recognize speech input from the given file:####"
   ]
  },
  {
   "cell_type": "code",
   "execution_count": 5,
   "metadata": {},
   "outputs": [
    {
     "name": "stdout",
     "output_type": "stream",
     "text": [
      "\u001b[0m\u001b[01;34mexamples\u001b[0m/  microphone.py  speech_recognition_using_python.ipynb\r\n"
     ]
    }
   ],
   "source": [
    "ls"
   ]
  },
  {
   "cell_type": "code",
   "execution_count": 6,
   "metadata": {},
   "outputs": [
    {
     "name": "stdout",
     "output_type": "stream",
     "text": [
      "examples/hindi_04.wav\n",
      "Transcription: is Tapti dhup Mein Tum Ghar Se Bahar mat karo Arjun Pratiyogita Mein Sabse Tej Thoda Aur Pratham Sthan per aaya hun per Ham Havan Karke devtaon ka dhanyvad karte hain Hamare Dadaji bahut Hani aur takat par the Radha Koi kam Adhura Nahin chhod di thi isliye vah Ke Piche do dukaan Hain jinko dhoke se bahut nuksan Hua gadi thoda Dhire chalao Nahin to Takkar ho jayegi dusron ki vastuon per thoda bhi Adhikar nahin aana chahie Ab To Naukari karne ke liye taiyar ho jao\n"
     ]
    }
   ],
   "source": [
    "import speech_recognition as sr\n",
    "r = sr.Recognizer()\n",
    "audio=input() #type examples/hindi_04.wav\n",
    "sound = sr.AudioFile(audio)\n",
    "with sound as source:\n",
    "    audio = r.record(source)\n",
    "\n",
    "try:\n",
    "    print(\"Transcription: \" + r.recognize_google(audio))   # recognize speech using Google Speech Recognition\n",
    "except:                                 # speech is unintelligible\n",
    "    print(\"Could not understand audio\")\n"
   ]
  },
  {
   "cell_type": "markdown",
   "metadata": {},
   "source": [
    "# Transcribe a WAV audio file and show the confidence of each possibility:"
   ]
  },
  {
   "cell_type": "code",
   "execution_count": 7,
   "metadata": {},
   "outputs": [
    {
     "name": "stdout",
     "output_type": "stream",
     "text": [
      "examples/hindi_05.wav\n"
     ]
    }
   ],
   "source": [
    "import speech_recognition as sr\n",
    "r = sr.Recognizer()\n",
    "audio=input()\n",
    "sound = sr.AudioFile(audio)\n",
    "with sound as source:\n",
    "    r.adjust_for_ambient_noise(source)\n",
    "    audio = r.record(source)\n",
    "#r.recognize_google(audio)\n",
    "\n",
    "lis=r.recognize_google(audio, show_all=True)"
   ]
  },
  {
   "cell_type": "code",
   "execution_count": 8,
   "metadata": {},
   "outputs": [
    {
     "data": {
      "text/plain": [
       "{'alternative': [{'transcript': 'Guddi ke Hathon se Banai thand bahut swadisht hote hain Duniya Ke Sab praniyon Ko mil jul kar Rahana chahie Kumari Ne Guru Ji ko pranam Kiya aur Unki Sharan Mein Chali Gai thand Mein Ravi topi pahankar bacha le Jata Hai Raksha Bandhan par Chitra ne apne bhaiyon ko Tika Lagaya aur use dher saare paise mile Anand ka Tanga Tut Gaya Kyunki Aaj Kisi Ne upsthit hokar',\n",
       "   'confidence': 0.88047338},\n",
       "  {'transcript': 'Guddi ke Hathon se Banai thand bahut swadisht hote hain Duniya Ke Sab praniyon Ko mil jul kar Rahana chahie Kumari Ne Guru Ji ko pranam Kiya aur Unki Sharan Mein Chali Gai thand Mein Ravi topi pahankar bacha le Jata Hai Raksha Bandhan par Chitra ne apne bhaiyon ko Tika Lagaya aur use dher saare paise mile Anand ka Tanga Tut Gaya Kyunki Aaj Kisi Ne'},\n",
       "  {'transcript': 'Guddi ke Hathon se Bane tend bahut swadisht hote hain Duniya Ke Sab praniyon Ko mil jul kar Rahana chahie Kumari Ne Guru Ji ko pranam Kiya aur Unki Sharan Mein Chali Gai thand Mein Ravi topi pahankar bacha le Jata Hai Raksha Bandhan par Chitra ne apne bhaiyon ko Tika Lagaya aur use dher saare paise mile Anand ka Tanga Tut Gaya Kyunki Aaj Kisi Ne upsthit hokar'},\n",
       "  {'transcript': 'Guddi ke Hathon se Bane tend bahut swadisht hote hain Duniya Ke Sab praniyon Ko mil jul kar Rahana chahie Kumari Ne Guru Ji ko pranam Kiya aur Unki Sharan Mein Chali Gai thand Mein Ravi topi pahankar bacha le Jata Hai Raksha Bandhan par Chitra ne apne bhaiyon ko Tika Lagaya aur use dher saare paise mile Anand ka Tanga Tut Gaya Kyunki Aaj Kisi Ne'},\n",
       "  {'transcript': 'Guddi ke Hathon se Bane tend bahut swadisht hote hain Duniya Ke Sab praniyon Ko mil jul kar Rahana chahie Kumari Ne Guru Ji ko pranam Kiya aur Unki Sharan Mein Chali Gai thand Mein Ravi topi pahankar bachale Jata Hai Raksha Bandhan par Chitra ne apne bhaiyon ko Tika Lagaya aur use dher saare paise mile Anand ka Tanga Tut Gaya Kyunki Aaj Kisi Ne upsthit hokar'}],\n",
       " 'final': True}"
      ]
     },
     "execution_count": 8,
     "metadata": {},
     "output_type": "execute_result"
    }
   ],
   "source": [
    "lis"
   ]
  },
  {
   "cell_type": "markdown",
   "metadata": {},
   "source": [
    "# listening speech as a chunks"
   ]
  },
  {
   "cell_type": "code",
   "execution_count": 10,
   "metadata": {},
   "outputs": [
    {
     "name": "stdout",
     "output_type": "stream",
     "text": [
      "examples/hindi_05.wav\n",
      "Duniya Ke\n",
      "Arvind ki Sharan Mein Chali gai\n",
      "Duniya Ke Arvind ki Sharan Mein Chali gai\n"
     ]
    }
   ],
   "source": [
    "import speech_recognition as sr\n",
    "r = sr.Recognizer()\n",
    "audio=input()\n",
    "sound = sr.AudioFile(audio)\n",
    "\n",
    "with sound as source:\n",
    "    audio1 = r.record(source,offset=4,duration=4)\n",
    "    audio2 = r.record(source,offset=4,duration=4)\n",
    "type(audio1)\n",
    "type(audio2)  \n",
    "r.recognize_google(audio1)\n",
    "r.recognize_google(audio2)\n",
    "text1=r.recognize_google(audio1)\n",
    "text2=r.recognize_google(audio2)\n",
    "print(text1)\n",
    "print(text2)\n",
    "print(text1+ \" \" + text2)"
   ]
  },
  {
   "cell_type": "markdown",
   "metadata": {},
   "source": [
    "# The Effect of Noise on Speech Recognition ####"
   ]
  },
  {
   "cell_type": "code",
   "execution_count": 11,
   "metadata": {},
   "outputs": [
    {
     "name": "stdout",
     "output_type": "stream",
     "text": [
      "examples/hindi_05.wav\n"
     ]
    },
    {
     "data": {
      "text/plain": [
       "'Guddi ke Hathon se Banai thand bahut swadisht hote hain Duniya Ke Sab praniyon Ko mil jul kar Rahana chahie Kumari Ne Guru Ji ko pranam Kiya aur Unki Sharan Mein Chali Gai thand Mein Ravi topi pahankar bacha le Jata Hai Raksha Bandhan par Chitra ne apne bhaiyon ko Tika Lagaya aur use dher saare paise mile Anand ka Tanga Tut Gaya Kyunki Aaj Kisi Ne upsthit hokar'"
      ]
     },
     "execution_count": 11,
     "metadata": {},
     "output_type": "execute_result"
    }
   ],
   "source": [
    "audio=input()\n",
    "harvard = sr.AudioFile(audio)\n",
    "with harvard as source:\n",
    "    r.adjust_for_ambient_noise(source)\n",
    "    audio = r.record(source)\n",
    "r.recognize_google(audio)"
   ]
  },
  {
   "cell_type": "code",
   "execution_count": 12,
   "metadata": {},
   "outputs": [
    {
     "data": {
      "text/plain": [
       "{'alternative': [{'transcript': 'Guddi ke Hathon se Banai thand bahut swadisht hote hain Duniya Ke Sab praniyon Ko mil jul kar Rahana chahie Kumari Ne Guru Ji ko pranam Kiya aur Unki Sharan Mein Chali Gai thand Mein Ravi topi pahankar bacha le Jata Hai Raksha Bandhan par Chitra ne apne bhaiyon ko Tika Lagaya aur use dher saare paise mile Anand ka Tanga Tut Gaya Kyunki Aaj Kisi Ne upsthit hokar',\n",
       "   'confidence': 0.88047343},\n",
       "  {'transcript': 'Guddi ke Hathon se Banai thand bahut swadisht hote hain Duniya Ke Sab praniyon Ko mil jul kar Rahana chahie Kumari Ne Guru Ji ko pranam Kiya aur Unki Sharan Mein Chali Gai thand Mein Ravi topi pahankar bacha le Jata Hai Raksha Bandhan par Chitra ne apne bhaiyon ko Tika Lagaya aur use dher saare paise mile Anand ka Tanga Tut Gaya Kyunki Aaj Kisi Ne'},\n",
       "  {'transcript': 'Guddi ke Hathon se Bane tend bahut swadisht hote hain Duniya Ke Sab praniyon Ko mil jul kar Rahana chahie Kumari Ne Guru Ji ko pranam Kiya aur Unki Sharan Mein Chali Gai thand Mein Ravi topi pahankar bacha le Jata Hai Raksha Bandhan par Chitra ne apne bhaiyon ko Tika Lagaya aur use dher saare paise mile Anand ka Tanga Tut Gaya Kyunki Aaj Kisi Ne upsthit hokar'},\n",
       "  {'transcript': 'Guddi ke Hathon se Bane tend bahut swadisht hote hain Duniya Ke Sab praniyon Ko mil jul kar Rahana chahie Kumari Ne Guru Ji ko pranam Kiya aur Unki Sharan Mein Chali Gai thand Mein Ravi topi pahankar bacha le Jata Hai Raksha Bandhan par Chitra ne apne bhaiyon ko Tika Lagaya aur use dher saare paise mile Anand ka Tanga Tut Gaya Kyunki Aaj Kisi Ne'},\n",
       "  {'transcript': 'Guddi ke Hathon se Bane tend bahut swadisht hote hain Duniya Ke Sab praniyon Ko mil jul kar Rahana chahie Kumari Ne Guru Ji ko pranam Kiya aur Unki Sharan Mein Chali Gai thand Mein Ravi topi pahankar bachale Jata Hai Raksha Bandhan par Chitra ne apne bhaiyon ko Tika Lagaya aur use dher saare paise mile Anand ka Tanga Tut Gaya Kyunki Aaj Kisi Ne upsthit hokar'}],\n",
       " 'final': True}"
      ]
     },
     "execution_count": 12,
     "metadata": {},
     "output_type": "execute_result"
    }
   ],
   "source": [
    "r.recognize_google(audio, show_all=True)"
   ]
  },
  {
   "cell_type": "markdown",
   "metadata": {},
   "source": []
  },
  {
   "cell_type": "code",
   "execution_count": null,
   "metadata": {},
   "outputs": [],
   "source": []
  }
 ],
 "metadata": {
  "kernelspec": {
   "display_name": "Python 3",
   "language": "python",
   "name": "python3"
  },
  "language_info": {
   "codemirror_mode": {
    "name": "ipython",
    "version": 3
   },
   "file_extension": ".py",
   "mimetype": "text/x-python",
   "name": "python",
   "nbconvert_exporter": "python",
   "pygments_lexer": "ipython3",
   "version": "3.6.8"
  }
 },
 "nbformat": 4,
 "nbformat_minor": 2
}
